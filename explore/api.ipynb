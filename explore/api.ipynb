{
 "cells": [
  {
   "cell_type": "code",
   "execution_count": 1,
   "metadata": {},
   "outputs": [],
   "source": [
    "import tweepy\n",
    "from os import environ,listdir\n",
    "import json, pandas as pd\n",
    "from os.path import expanduser, join"
   ]
  },
  {
   "cell_type": "code",
   "execution_count": 2,
   "metadata": {},
   "outputs": [],
   "source": [
    "token = environ.get('BEARER_TOKEN')"
   ]
  },
  {
   "cell_type": "code",
   "execution_count": 3,
   "metadata": {},
   "outputs": [],
   "source": [
    "cli = tweepy.Client(bearer_token = token,wait_on_rate_limit=True)"
   ]
  },
  {
   "cell_type": "code",
   "execution_count": 4,
   "metadata": {},
   "outputs": [
    {
     "data": {
      "text/plain": [
       "Response(data=<User id=112527055 name=Joe Pisapia username=JoePisapia17>, includes={}, errors=[], meta={})"
      ]
     },
     "execution_count": 4,
     "metadata": {},
     "output_type": "execute_result"
    }
   ],
   "source": [
    "# cli.get_user(username = 'UNESCO')\n",
    "cli.get_user(id = '112527055')\n",
    "\n"
   ]
  },
  {
   "cell_type": "code",
   "execution_count": 8,
   "metadata": {},
   "outputs": [],
   "source": [
    "data = cli.get_users_followers(20646711,max_results = 1000, user_fields = 'description,created_at,location,entities,public_metrics,verified')"
   ]
  },
  {
   "cell_type": "code",
   "execution_count": 13,
   "metadata": {},
   "outputs": [],
   "source": [
    "data = []\n",
    "for followers in tweepy.Paginator(cli.get_users_followers,id = 20646711,max_results = 1000, user_fields = 'description,created_at,location,entities,public_metrics,verified',limit=3).flatten():\n",
    "    data.append(followers.data)"
   ]
  },
  {
   "cell_type": "code",
   "execution_count": 9,
   "metadata": {},
   "outputs": [],
   "source": [
    "data2 = []\n",
    "i = 0\n",
    "for followers in tweepy.Paginator(cli.get_users_followers,id = 20646711,max_results = 1000, user_fields = 'description,created_at,location,entities,public_metrics,verified',limit=3):\n",
    "    data2.append(followers.data)\n",
    "    i+=1\n"
   ]
  },
  {
   "cell_type": "code",
   "execution_count": 11,
   "metadata": {},
   "outputs": [
    {
     "data": {
      "text/plain": [
       "{'result_count': 1000,\n",
       " 'next_token': '264LRJN5H90HGZZZ',\n",
       " 'previous_token': '6T2UR5SS52VEEZZZ'}"
      ]
     },
     "execution_count": 11,
     "metadata": {},
     "output_type": "execute_result"
    }
   ],
   "source": [
    "followers.meta"
   ]
  },
  {
   "cell_type": "code",
   "execution_count": 16,
   "metadata": {},
   "outputs": [],
   "source": [
    "df= pd.DataFrame(data2[0])"
   ]
  },
  {
   "cell_type": "code",
   "execution_count": 2,
   "metadata": {},
   "outputs": [],
   "source": [
    "path = expanduser('~/spark_apps/twitter_followers/')\n"
   ]
  },
  {
   "cell_type": "code",
   "execution_count": null,
   "metadata": {},
   "outputs": [],
   "source": [
    "df = pd.DataFrame()\n",
    "for f in listdir(path):\n",
    "    with open(join(path,f),'r') as fp:\n",
    "        data = fp.read()\n",
    "    df = pd.concat((df,pd.read_json(data,orient = 'records')))"
   ]
  },
  {
   "cell_type": "code",
   "execution_count": 4,
   "metadata": {},
   "outputs": [
    {
     "data": {
      "text/html": [
       "<div>\n",
       "<style scoped>\n",
       "    .dataframe tbody tr th:only-of-type {\n",
       "        vertical-align: middle;\n",
       "    }\n",
       "\n",
       "    .dataframe tbody tr th {\n",
       "        vertical-align: top;\n",
       "    }\n",
       "\n",
       "    .dataframe thead th {\n",
       "        text-align: right;\n",
       "    }\n",
       "</style>\n",
       "<table border=\"1\" class=\"dataframe\">\n",
       "  <thead>\n",
       "    <tr style=\"text-align: right;\">\n",
       "      <th></th>\n",
       "      <th>created_at</th>\n",
       "      <th>description</th>\n",
       "      <th>entities</th>\n",
       "      <th>id</th>\n",
       "      <th>location</th>\n",
       "      <th>name</th>\n",
       "      <th>public_metrics</th>\n",
       "      <th>username</th>\n",
       "      <th>verified</th>\n",
       "      <th>withheld</th>\n",
       "    </tr>\n",
       "  </thead>\n",
       "  <tbody>\n",
       "    <tr>\n",
       "      <th>0</th>\n",
       "      <td>2011-07-24 21:13:51</td>\n",
       "      <td>We are GYC. Glasgow’s award winning youth demo...</td>\n",
       "      <td>{'url': {'urls': [{'start': 0, 'end': 23, 'url...</td>\n",
       "      <td>341723471</td>\n",
       "      <td>Glasgow, Scotland, UK</td>\n",
       "      <td>Glasgow Youth Council</td>\n",
       "      <td>{'followers_count': 1360, 'following_count': 3...</td>\n",
       "      <td>GlasgowYC</td>\n",
       "      <td>False</td>\n",
       "      <td>NaN</td>\n",
       "    </tr>\n",
       "    <tr>\n",
       "      <th>2</th>\n",
       "      <td>2021-09-10 22:20:31</td>\n",
       "      <td>a social learner. I SHALL BE THE LEADER WHEREV...</td>\n",
       "      <td>None</td>\n",
       "      <td>1436454449396940800</td>\n",
       "      <td>Hyderabad, India</td>\n",
       "      <td>Botla Bixapathi, Chairman JNTUH JAC</td>\n",
       "      <td>{'followers_count': 102, 'following_count': 10...</td>\n",
       "      <td>botlabixapathi1</td>\n",
       "      <td>False</td>\n",
       "      <td>NaN</td>\n",
       "    </tr>\n",
       "    <tr>\n",
       "      <th>3</th>\n",
       "      <td>2021-09-18 12:04:28</td>\n",
       "      <td>Sports</td>\n",
       "      <td>None</td>\n",
       "      <td>1439198563205107714</td>\n",
       "      <td>Hawassa</td>\n",
       "      <td>Tekle Tadesse</td>\n",
       "      <td>{'followers_count': 27, 'following_count': 214...</td>\n",
       "      <td>TekleTadesse12</td>\n",
       "      <td>False</td>\n",
       "      <td>NaN</td>\n",
       "    </tr>\n",
       "    <tr>\n",
       "      <th>8</th>\n",
       "      <td>2021-10-01 15:59:48</td>\n",
       "      <td>Financial Director for North Shropshire Conser...</td>\n",
       "      <td>{'description': {'hashtags': [{'start': 65, 'e...</td>\n",
       "      <td>1443968852975566849</td>\n",
       "      <td>Ellesmere, England</td>\n",
       "      <td>Owen Woodward</td>\n",
       "      <td>{'followers_count': 3, 'following_count': 42, ...</td>\n",
       "      <td>OwenJWoodward</td>\n",
       "      <td>False</td>\n",
       "      <td>NaN</td>\n",
       "    </tr>\n",
       "    <tr>\n",
       "      <th>9</th>\n",
       "      <td>2013-05-20 11:13:59</td>\n",
       "      <td>Empowering women as changemakers and @Creators...</td>\n",
       "      <td>{'url': {'urls': [{'start': 0, 'end': 23, 'url...</td>\n",
       "      <td>1443529736</td>\n",
       "      <td>UK</td>\n",
       "      <td>Creators of Peace UK</td>\n",
       "      <td>{'followers_count': 460, 'following_count': 70...</td>\n",
       "      <td>creatingpeaceuk</td>\n",
       "      <td>False</td>\n",
       "      <td>NaN</td>\n",
       "    </tr>\n",
       "    <tr>\n",
       "      <th>...</th>\n",
       "      <td>...</td>\n",
       "      <td>...</td>\n",
       "      <td>...</td>\n",
       "      <td>...</td>\n",
       "      <td>...</td>\n",
       "      <td>...</td>\n",
       "      <td>...</td>\n",
       "      <td>...</td>\n",
       "      <td>...</td>\n",
       "      <td>...</td>\n",
       "    </tr>\n",
       "    <tr>\n",
       "      <th>992</th>\n",
       "      <td>2022-08-05 13:54:25</td>\n",
       "      <td>At Non-Slip floor solutions, our primary objec...</td>\n",
       "      <td>{'url': {'urls': [{'start': 0, 'end': 23, 'url...</td>\n",
       "      <td>1555552754625552387</td>\n",
       "      <td>NSW 2216, Australia</td>\n",
       "      <td>Jay GANATRA</td>\n",
       "      <td>{'followers_count': 0, 'following_count': 37, ...</td>\n",
       "      <td>JayGANA4</td>\n",
       "      <td>False</td>\n",
       "      <td>NaN</td>\n",
       "    </tr>\n",
       "    <tr>\n",
       "      <th>993</th>\n",
       "      <td>2022-08-05 13:22:51</td>\n",
       "      <td>UPV Political Science | Executive Director @ka...</td>\n",
       "      <td>{'url': {'urls': [{'start': 0, 'end': 23, 'url...</td>\n",
       "      <td>1555544816330559488</td>\n",
       "      <td>Philippines</td>\n",
       "      <td>Ciania Belle Gloria</td>\n",
       "      <td>{'followers_count': 19, 'following_count': 33,...</td>\n",
       "      <td>CianiaGloria</td>\n",
       "      <td>False</td>\n",
       "      <td>NaN</td>\n",
       "    </tr>\n",
       "    <tr>\n",
       "      <th>995</th>\n",
       "      <td>2022-08-04 06:31:23</td>\n",
       "      <td>#graduate (science) &amp; post graduation in polit...</td>\n",
       "      <td>{'description': {'hashtags': [{'start': 0, 'en...</td>\n",
       "      <td>1555078511429578752</td>\n",
       "      <td>New Delhi, India</td>\n",
       "      <td>Jagdish Choudhary</td>\n",
       "      <td>{'followers_count': 41, 'following_count': 128...</td>\n",
       "      <td>jagdishsaran94</td>\n",
       "      <td>False</td>\n",
       "      <td>NaN</td>\n",
       "    </tr>\n",
       "    <tr>\n",
       "      <th>996</th>\n",
       "      <td>2011-06-22 12:37:14</td>\n",
       "      <td>🇵🇸❤️</td>\n",
       "      <td>None</td>\n",
       "      <td>321968262</td>\n",
       "      <td>unidentified</td>\n",
       "      <td>bepropalestine</td>\n",
       "      <td>{'followers_count': 7, 'following_count': 114,...</td>\n",
       "      <td>bepropalestine</td>\n",
       "      <td>False</td>\n",
       "      <td>NaN</td>\n",
       "    </tr>\n",
       "    <tr>\n",
       "      <th>998</th>\n",
       "      <td>2012-05-16 19:44:17</td>\n",
       "      <td>Now working in curriculum innovation @Educatio...</td>\n",
       "      <td>{'description': {'hashtags': [{'start': 141, '...</td>\n",
       "      <td>582110449</td>\n",
       "      <td>Scotland</td>\n",
       "      <td>Graeme Wallace</td>\n",
       "      <td>{'followers_count': 802, 'following_count': 20...</td>\n",
       "      <td>graemepwallace</td>\n",
       "      <td>False</td>\n",
       "      <td>NaN</td>\n",
       "    </tr>\n",
       "  </tbody>\n",
       "</table>\n",
       "<p>259982 rows × 10 columns</p>\n",
       "</div>"
      ],
      "text/plain": [
       "              created_at                                        description  \\\n",
       "0    2011-07-24 21:13:51  We are GYC. Glasgow’s award winning youth demo...   \n",
       "2    2021-09-10 22:20:31  a social learner. I SHALL BE THE LEADER WHEREV...   \n",
       "3    2021-09-18 12:04:28                                             Sports   \n",
       "8    2021-10-01 15:59:48  Financial Director for North Shropshire Conser...   \n",
       "9    2013-05-20 11:13:59  Empowering women as changemakers and @Creators...   \n",
       "..                   ...                                                ...   \n",
       "992  2022-08-05 13:54:25  At Non-Slip floor solutions, our primary objec...   \n",
       "993  2022-08-05 13:22:51  UPV Political Science | Executive Director @ka...   \n",
       "995  2022-08-04 06:31:23  #graduate (science) & post graduation in polit...   \n",
       "996  2011-06-22 12:37:14                                               🇵🇸❤️   \n",
       "998  2012-05-16 19:44:17  Now working in curriculum innovation @Educatio...   \n",
       "\n",
       "                                              entities                   id  \\\n",
       "0    {'url': {'urls': [{'start': 0, 'end': 23, 'url...            341723471   \n",
       "2                                                 None  1436454449396940800   \n",
       "3                                                 None  1439198563205107714   \n",
       "8    {'description': {'hashtags': [{'start': 65, 'e...  1443968852975566849   \n",
       "9    {'url': {'urls': [{'start': 0, 'end': 23, 'url...           1443529736   \n",
       "..                                                 ...                  ...   \n",
       "992  {'url': {'urls': [{'start': 0, 'end': 23, 'url...  1555552754625552387   \n",
       "993  {'url': {'urls': [{'start': 0, 'end': 23, 'url...  1555544816330559488   \n",
       "995  {'description': {'hashtags': [{'start': 0, 'en...  1555078511429578752   \n",
       "996                                               None            321968262   \n",
       "998  {'description': {'hashtags': [{'start': 141, '...            582110449   \n",
       "\n",
       "                  location                                 name  \\\n",
       "0    Glasgow, Scotland, UK                Glasgow Youth Council   \n",
       "2         Hyderabad, India  Botla Bixapathi, Chairman JNTUH JAC   \n",
       "3                  Hawassa                        Tekle Tadesse   \n",
       "8       Ellesmere, England                        Owen Woodward   \n",
       "9                       UK                 Creators of Peace UK   \n",
       "..                     ...                                  ...   \n",
       "992    NSW 2216, Australia                          Jay GANATRA   \n",
       "993            Philippines                  Ciania Belle Gloria   \n",
       "995       New Delhi, India                    Jagdish Choudhary   \n",
       "996           unidentified                       bepropalestine   \n",
       "998               Scotland                       Graeme Wallace   \n",
       "\n",
       "                                        public_metrics         username  \\\n",
       "0    {'followers_count': 1360, 'following_count': 3...        GlasgowYC   \n",
       "2    {'followers_count': 102, 'following_count': 10...  botlabixapathi1   \n",
       "3    {'followers_count': 27, 'following_count': 214...   TekleTadesse12   \n",
       "8    {'followers_count': 3, 'following_count': 42, ...    OwenJWoodward   \n",
       "9    {'followers_count': 460, 'following_count': 70...  creatingpeaceuk   \n",
       "..                                                 ...              ...   \n",
       "992  {'followers_count': 0, 'following_count': 37, ...         JayGANA4   \n",
       "993  {'followers_count': 19, 'following_count': 33,...     CianiaGloria   \n",
       "995  {'followers_count': 41, 'following_count': 128...   jagdishsaran94   \n",
       "996  {'followers_count': 7, 'following_count': 114,...   bepropalestine   \n",
       "998  {'followers_count': 802, 'following_count': 20...   graemepwallace   \n",
       "\n",
       "     verified withheld  \n",
       "0       False      NaN  \n",
       "2       False      NaN  \n",
       "3       False      NaN  \n",
       "8       False      NaN  \n",
       "9       False      NaN  \n",
       "..        ...      ...  \n",
       "992     False      NaN  \n",
       "993     False      NaN  \n",
       "995     False      NaN  \n",
       "996     False      NaN  \n",
       "998     False      NaN  \n",
       "\n",
       "[259982 rows x 10 columns]"
      ]
     },
     "execution_count": 4,
     "metadata": {},
     "output_type": "execute_result"
    }
   ],
   "source": [
    "df[~df.location.isna()]"
   ]
  },
  {
   "cell_type": "code",
   "execution_count": 21,
   "metadata": {},
   "outputs": [
    {
     "name": "stdout",
     "output_type": "stream",
     "text": [
      "{'created_at': 1313673159000, 'description': \"“In three words I can sum up everything I've learned about life: it goes on.” \\n― Robert Frost\\n(Anti-Army not invited )\", 'entities': None, 'id': 357494279, 'location': 'Lahore, Pakistan', 'name': 'Hinter-LAND', 'public_metrics': {'followers_count': 1522, 'following_count': 4961, 'tweet_count': 42182, 'listed_count': 3}, 'username': 'Kissan1998', 'verified': False}\n"
     ]
    }
   ],
   "source": [
    "print(json.loads(data)[5])"
   ]
  }
 ],
 "metadata": {
  "kernelspec": {
   "display_name": "Python 3.9.2 ('twitter')",
   "language": "python",
   "name": "python3"
  },
  "language_info": {
   "codemirror_mode": {
    "name": "ipython",
    "version": 3
   },
   "file_extension": ".py",
   "mimetype": "text/x-python",
   "name": "python",
   "nbconvert_exporter": "python",
   "pygments_lexer": "ipython3",
   "version": "3.9.2"
  },
  "orig_nbformat": 4,
  "vscode": {
   "interpreter": {
    "hash": "b0e09aa9d6dff02eea853b8354f2efece18c1036e8d0f4cdbe1b45a741f99d72"
   }
  }
 },
 "nbformat": 4,
 "nbformat_minor": 2
}
