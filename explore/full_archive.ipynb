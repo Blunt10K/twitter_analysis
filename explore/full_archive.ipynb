{
 "cells": [
  {
   "cell_type": "code",
   "execution_count": 1,
   "metadata": {},
   "outputs": [],
   "source": [
    "import tweepy\n",
    "from os import environ,listdir\n",
    "import json, pandas as pd\n",
    "from os.path import expanduser, join\n",
    "from datetime import datetime as dt\n",
    "from datetime import timedelta as td"
   ]
  },
  {
   "cell_type": "code",
   "execution_count": 2,
   "metadata": {},
   "outputs": [],
   "source": [
    "token = environ.get('BEARER_TOKEN')\n",
    "\n",
    "# cli = tweepy.Client(bearer_token = token,wait_on_rate_limit=True)"
   ]
  },
  {
   "cell_type": "code",
   "execution_count": 3,
   "metadata": {},
   "outputs": [],
   "source": [
    "auth = tweepy.OAuthHandler(environ.get(\"API_KEY\"), environ.get(\"API_KEY_SECRET\"))\n",
    "auth.set_access_token(environ.get(\"ACCESS_TOKEN\"),environ.get(\"ACCESS_TOKEN_SECRET\"))"
   ]
  },
  {
   "cell_type": "code",
   "execution_count": 4,
   "metadata": {},
   "outputs": [],
   "source": [
    "api = tweepy.API(auth, wait_on_rate_limit=True)"
   ]
  },
  {
   "cell_type": "code",
   "execution_count": 5,
   "metadata": {},
   "outputs": [],
   "source": [
    "twitter_fields = 'attachments,context_annotations,conversation_id,created_at,entities,in_reply_to_user_id,lang,public_metrics,referenced_tweets,source'\n",
    "user_fields = 'description,created_at,location,entities,public_metrics,verified'\n",
    "place_fields = 'country,name'"
   ]
  },
  {
   "cell_type": "code",
   "execution_count": 12,
   "metadata": {},
   "outputs": [],
   "source": [
    "query = '\"UNESCO\" -from:UNESCO -from:UN -from:UN_Women -from:UNICEF -from:UNIDO (lang:en OR lang:fr) -has:videos -retweets_of:UNESCO'"
   ]
  },
  {
   "cell_type": "code",
   "execution_count": 13,
   "metadata": {},
   "outputs": [
    {
     "data": {
      "text/plain": [
       "123"
      ]
     },
     "execution_count": 13,
     "metadata": {},
     "output_type": "execute_result"
    }
   ],
   "source": [
    "len(query)"
   ]
  },
  {
   "cell_type": "code",
   "execution_count": 21,
   "metadata": {},
   "outputs": [],
   "source": [
    "start = dt.now() - td(days = 365*2)\n",
    "end = dt.now() - td(days = 365)"
   ]
  },
  {
   "cell_type": "code",
   "execution_count": 10,
   "metadata": {},
   "outputs": [],
   "source": [
    "data = []"
   ]
  },
  {
   "cell_type": "code",
   "execution_count": 22,
   "metadata": {},
   "outputs": [],
   "source": [
    "d = api.search_full_archive('dashboard',query, toDate = end.strftime('%Y%m%d%H%m'), fromDate = start.strftime('%Y%m%d%H%m'))"
   ]
  },
  {
   "cell_type": "code",
   "execution_count": 23,
   "metadata": {},
   "outputs": [],
   "source": [
    "data.append(d)"
   ]
  },
  {
   "cell_type": "code",
   "execution_count": null,
   "metadata": {},
   "outputs": [],
   "source": []
  },
  {
   "cell_type": "code",
   "execution_count": 28,
   "metadata": {},
   "outputs": [],
   "source": [
    "df = pd.DataFrame([d._json for d in data[0]])"
   ]
  },
  {
   "cell_type": "code",
   "execution_count": 29,
   "metadata": {},
   "outputs": [],
   "source": [
    "df = pd.concat((df, pd.DataFrame([d._json for d in data[1]])))"
   ]
  },
  {
   "cell_type": "code",
   "execution_count": 30,
   "metadata": {},
   "outputs": [],
   "source": [
    "df = pd.concat((df, pd.DataFrame([d._json for d in data[2]])))"
   ]
  },
  {
   "cell_type": "code",
   "execution_count": 31,
   "metadata": {},
   "outputs": [],
   "source": [
    "full_text = pd.json_normalize(df['extended_tweet'])"
   ]
  },
  {
   "cell_type": "code",
   "execution_count": 32,
   "metadata": {},
   "outputs": [],
   "source": [
    "full_text.dropna(subset='full_text', inplace = True)#[full_text['full_text'].fillna('').str.contains('UNESCO',regex=False)]"
   ]
  },
  {
   "cell_type": "code",
   "execution_count": 34,
   "metadata": {},
   "outputs": [],
   "source": [
    "df.reset_index(inplace=True)"
   ]
  },
  {
   "cell_type": "code",
   "execution_count": 35,
   "metadata": {},
   "outputs": [],
   "source": [
    "df = pd.concat((df,pd.json_normalize(df['extended_tweet'])),axis=1)"
   ]
  },
  {
   "cell_type": "code",
   "execution_count": 36,
   "metadata": {},
   "outputs": [],
   "source": [
    "df['text'].where(~df['truncated'],df['full_text'], inplace = True)"
   ]
  },
  {
   "cell_type": "code",
   "execution_count": 38,
   "metadata": {},
   "outputs": [
    {
     "data": {
      "text/plain": [
       "Index(['index', 'created_at', 'id', 'id_str', 'text', 'source', 'truncated',\n",
       "       'in_reply_to_status_id', 'in_reply_to_status_id_str',\n",
       "       'in_reply_to_user_id', 'in_reply_to_user_id_str',\n",
       "       'in_reply_to_screen_name', 'user', 'geo', 'coordinates', 'place',\n",
       "       'contributors', 'is_quote_status', 'extended_tweet', 'quote_count',\n",
       "       'reply_count', 'retweet_count', 'favorite_count', 'entities',\n",
       "       'favorited', 'retweeted', 'possibly_sensitive', 'edit_history',\n",
       "       'edit_controls', 'editable', 'filter_level', 'lang', 'matching_rules',\n",
       "       'retweeted_status', 'display_text_range', 'quoted_status_id',\n",
       "       'quoted_status_id_str', 'quoted_status', 'quoted_status_permalink',\n",
       "       'extended_entities', 'full_text', 'display_text_range',\n",
       "       'entities.hashtags', 'entities.urls', 'entities.user_mentions',\n",
       "       'entities.symbols', 'entities.media', 'extended_entities.media'],\n",
       "      dtype='object')"
      ]
     },
     "execution_count": 38,
     "metadata": {},
     "output_type": "execute_result"
    }
   ],
   "source": [
    "df.keys()"
   ]
  },
  {
   "cell_type": "code",
   "execution_count": 47,
   "metadata": {},
   "outputs": [],
   "source": [
    "df.text.to_csv('eg.csv',index = False)#.find('UNESCO')"
   ]
  },
  {
   "cell_type": "code",
   "execution_count": 125,
   "metadata": {},
   "outputs": [],
   "source": [
    "links = r'https?://[\\w\\.\\d/]+'\n",
    "hashtags = r'#[\\w\\d]+'\n",
    "usernames = r'@[\\w\\d_]+'\n",
    "df3['text'] = df3['text'].str.replace(links,'', regex = True).str.replace(hashtags,'', regex = True).str.replace(usernames, '',regex = True).str.replace(r'\\s+',' ', regex = True)"
   ]
  },
  {
   "cell_type": "code",
   "execution_count": 128,
   "metadata": {},
   "outputs": [],
   "source": [
    "from textblob import TextBlob\n",
    " "
   ]
  },
  {
   "cell_type": "code",
   "execution_count": 127,
   "metadata": {},
   "outputs": [
    {
     "data": {
      "text/plain": [
       "['RT : \"Citizen engagement - a pillar to achieving \" says co-organising with …',\n",
       " 'RT : Africa should approach holistically to ensure that human resources and the gap between actual capacities on th…',\n",
       " \" Read the tweet again... I am referring to UNESCO's single minded approach... I'm potentially agreeing with you. The value of a place is the experience in the street not the view from an office in Florence.\",\n",
       " 'Dr. Saba Al Heialy was recently honoured as ‘International Rising Talent’ for her research into the link between obesity and asthma at the 21st L’Oréal-UNESCO for Women in Science Award Ceremony. ',\n",
       " '“Working with young people not just for young people” says \\u2066\\u2069 who thanks at Global Committee ',\n",
       " 'RT : Together, we…',\n",
       " \"RT : On 's World Day for Peace and Development, we reflect on 40+ years of research at into…\",\n",
       " 'RT : We know what WON’T be on their agenda - making the Azerbaijani government accountable for the secret erasure of 28,000…',\n",
       " ' Congratulations Caroline. What a great achievement. PhD next?',\n",
       " 'RT : \"Citizen engagement - a pillar to achieving \" says co-organising with …',\n",
       " ' This is an interesting article on the subject of London and its reality. ',\n",
       " '\"At the rate we are going some countries could have ⬆ in out-of-school children by 2030. Not possible to continue business as usual. Global Committee must &amp; will provide solutions for scalable effective action\" ',\n",
       " 'RT : Saluting the genius on his 172nd birthday. Frederick William Stevens, the English architect who designed UNESCO-listed Mumbai…',\n",
       " '\"Citizen engagement - a pillar to achieving \" says co-organising with the next Global in Tunisia Dec 2019 - a platform for rallying joint action ',\n",
       " 'RT : Nevşehir, Turkey - Hot-air balloons over Cappadocia, a Unesco world heritage site - Photograph: Behçet Alkan/Anadolu Age…',\n",
       " 'RT : is key to peace, development and the - ensuring access to basic services and natural resources, pro…',\n",
       " \" I don't know that UNESCO encourages low scale poor architecture. But I do take issue with what appears to be their single minded architectural approach to Liverpool's WHS. For me, experience of the WHS for people at ground level is the most important consideration in placemaking.\",\n",
       " 'Just arrived in Kanazawa, Japan. Where I will be spending my 25th birthday tomorrow. Going to spend the day in the UNESCO world heritage sight of Shirakawgo &amp; the evening having a nice 25th birthday drink with any other travellers in my hostel that wish to share the celebrations',\n",
       " ' GOOD Morning,is there still available Openings for Service',\n",
       " 'RT : We have to be on the same page and speak the same language as starting point fo all countries not only in ,…',\n",
       " 'Play a part. Spread the word. Help support our campaign of solidarity with Afghan mothers and their right to education. Launching at Wed 13th November ☮️ ',\n",
       " \"Worth 9min VD. let's preserve our sites \",\n",
       " ' The last speaker of the day - Helen Sherpa, from World Education, Nepal talks about the in for early readers. ',\n",
       " 'RT : Dazu Rock Carvings is located in Chongqing, China. It was built from 650AD in Tang Dynasty (618AD - 907AD). Among the rock…',\n",
       " 'RT : Congratulations to - newly appointed Creative City for Crafts and Folk Art by Now we have two Creative C…',\n",
       " 'Online Course on Community Learning Centres and Lifelong Learning in Asia and the Pacific ',\n",
       " 'RT : Dear UNESCO Water Family, We are pleased to share with you, herewith appended, the call for abstracts for IHE Delft’s 6th In…',\n",
       " 'RT : Nitin Kashyap from talks about the around to engage… ',\n",
       " 'Noted Academician Padma Shri Prof. J. S. Rajput (Present Govt. of India Nominee at UNESCO) &amp; Shri P. P. Sharma (Retd. IAS, Executive Director,Railway Board) and Prof. Ripusudan Srivastava, Former Vice Chancellor, BNMU, graced the occasion. ',\n",
       " 'RT : Fantastic and congratulations. As a 2014 graduate it’s still the best d…',\n",
       " 'Looking forward to hearing from this morning on what the delegation means for York businesses! ',\n",
       " 'RT : Coming up: 3-4 Dec WWAP gender workshop in Bangkok! Day I 09.30-13.00 open to all! We will introduce the 2019 UNESCO WWAP T…',\n",
       " \" Make sure you're following our Instagram account during , where our students will be doing a takeover with images and video from all the talks and workshops. Today it's our first year undergraduate \",\n",
       " 'RT : for Peace and Development was established by UNESCO with the aim of highlighting the important role of…',\n",
       " \"RT : On , let's remember Florence Nightingal…\",\n",
       " 'RT : Our eighth International Journalism Week begins today! 🕙Introduction with event organiser and lectur…',\n",
       " 'Hampi, the city of ruins, is a UNESCO . Situated in the shadowed depth of hills and valleys in the state of and surrounded by 500 ancient , this place is a historical delight for travelers. ',\n",
       " \"RT : DYK, UNESCO WWAP's 2019 'Water&amp;Gender Toolkit' aims to facilitate sex-disaggregated collection, to strengthen …\",\n",
       " 'RT : for any child Please RT if you agree is the first global multilateral fund dedicated to educ…',\n",
       " 'Our eighth International Journalism Week begins today! 🕙Introduction with event organiser and lecturer ; and our head , who is Chair on Media Freedom, Journalism Safety and the Issue of Impunity. Follow for updates. ',\n",
       " \"RT : What is 'public interest journalism'? And when journalists talk about it, do they mean the same thing as the government or…\",\n",
       " 'RT : Are you a scholar interested in the intersection between press freedom and national security? UQ is offering a PhD scholar…',\n",
       " 'Dear UNESCO Water Family, We are pleased to share with you, herewith appended, the call for abstracts for IHE Delft’s 6th International Symposium on Knowledge and Capacity for the Water Sector, to be held on... ',\n",
       " \"RT : What is 'public interest journalism'? And when journalists talk about it, do they mean the same thing as the government or…\",\n",
       " 'RT : …',\n",
       " 'RT : …',\n",
       " \" It's such a validation to see 's work cut across all libraries and more importantly, impact millions of children with reading material! \",\n",
       " 'RT : “Open science, leaving no one behind”, UNESCO’s theme for this year’s World Science Day for Peace and Development, is one that…',\n",
       " \"RT : Today, Nov. 10, is World for Peace &amp; Development (under the patronage of ) and this year's topic is …\",\n",
       " 'When you finally learn how to make pretty pins 🙌🏻 ',\n",
       " \"RT : 🍇 that the terraced vineyards in , which are a site, form Switzerland's largest continuous v…\",\n",
       " 'RT : Now a , the has some of the darkest skies in the UK, making it perfect for an astronomi…',\n",
       " 'RT : “Political will, sharper policy focus on equity and inclusion, better data for better policy, increased funding and so…',\n",
       " 'RT : Are you a scholar interested in the intersection between press freedom and national security? UQ is offering a PhD scholar…',\n",
       " \"Lionel Richie () is confirmed to headline Nocturne Live at Blenheim Palace next summer. Hear hits like 'Dancing on the Ceiling' &amp; 'All Night Long' at the UNESCO world heritage site. \",\n",
       " 'RT : Unesco has published statistics on Zimbabwe that show that 20,400 primary school children dropped out of school last year du…',\n",
       " \"RT : Don't forget to register at UNESCO Karst 2020: MAY 18-22, 2020 INTERNATIONAL KARST MEETING at WESTERN KENTUCKY UNIVERSITY htt…\",\n",
       " 'RT : Inject a little history into your with this on 7 of the best World Heritage Site cities! https…',\n",
       " 'RT : The Protocols of the Elders of Zion and Adolf Hitler’s Mein Kampf were among the books featured at a UNESCO-sponsored book…',\n",
       " \"RT : On , let's remember Florence Nightingal…\",\n",
       " 'RT : UNESCO will vote next month on the removal of the Aalst carnival in Belgium from its\\' list of \"Intangible Cultural Heritag…',\n",
       " \" Meenal Sarda talks about 's Literacy Cloud platform in . Super proud of this one as it was created using a White Label deployed by ! \",\n",
       " \"RT : What is 'public interest journalism'? And when journalists talk about it, do they mean the same thing as the government or…\",\n",
       " 'To the point. ',\n",
       " 'RT : Are you a scholar interested in the intersection between press freedom and national security? UQ is offering a PhD scholar…',\n",
       " \"RT : Let's celebrate ! Just three weeks until the anniversary of the - ! Want to ge…\",\n",
       " 'PM &amp; his wife, , will make a 2-day working visit to France on Monday, November 11 to participate in the 2nd edition of the &amp; the 40th Session of the General Conference ',\n",
       " 'RT : Minister Dr. Aishath Ali and colleagues departs to France to take part in the 40th UNESCO General Conference to be held in Par…',\n",
       " 'RT : A photographer captured how unprecedented floods ravaged a UNESCO World Heritage site in Côte d’Ivoire …',\n",
       " 'RT : UNESCO: Do the right thing! --Vote them OUT OUT OUT.... The annual parade in Belgium that this year featured a…',\n",
       " \" Meghan Nalbo from , talks about their 'Book Lab' process to create tales of that are brought to life through . \",\n",
       " 'RT : Minister Dr. Aishath Ali and colleagues departs to France to take part in the 40th UNESCO General Conference to be held in Par…',\n",
       " 'RT : Full house for Global Committee - thank you to all for your commitment to education, it’s…',\n",
       " 'RT : for any child Please RT if you agree is the first global multilateral fund dedicated to educ…',\n",
       " 'RT : “Political will, sharper policy focus on equity and inclusion, better data for better policy, increased funding and so…',\n",
       " 'Our new geoguides trained and ready to go out and share the geology and landscape of the and . ',\n",
       " 'Looking for case studies of youth and adult programmes from around the world? Check out over 200 examples of best practice in our database, one of them a programme in 🇰🇭 targeting factory workers. 👉🏻 ']"
      ]
     },
     "execution_count": 127,
     "metadata": {},
     "output_type": "execute_result"
    }
   ],
   "source": [
    "sentiment = [TextBlob(i).sentiment for i in list(df3[df3['lang']=='en'].text)]"
   ]
  },
  {
   "cell_type": "code",
   "execution_count": null,
   "metadata": {},
   "outputs": [],
   "source": []
  }
 ],
 "metadata": {
  "kernelspec": {
   "display_name": "Python 3.9.2 ('twitter')",
   "language": "python",
   "name": "python3"
  },
  "language_info": {
   "codemirror_mode": {
    "name": "ipython",
    "version": 3
   },
   "file_extension": ".py",
   "mimetype": "text/x-python",
   "name": "python",
   "nbconvert_exporter": "python",
   "pygments_lexer": "ipython3",
   "version": "3.9.2"
  },
  "orig_nbformat": 4,
  "vscode": {
   "interpreter": {
    "hash": "b0e09aa9d6dff02eea853b8354f2efece18c1036e8d0f4cdbe1b45a741f99d72"
   }
  }
 },
 "nbformat": 4,
 "nbformat_minor": 2
}
