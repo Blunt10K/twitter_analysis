{
 "cells": [
  {
   "cell_type": "code",
   "execution_count": 1,
   "metadata": {},
   "outputs": [],
   "source": [
    "import tweepy\n",
    "from os import environ,listdir\n",
    "import json, pandas as pd\n",
    "from os.path import expanduser, join"
   ]
  },
  {
   "cell_type": "code",
   "execution_count": 2,
   "metadata": {},
   "outputs": [],
   "source": [
    "token = environ.get('BEARER_TOKEN')\n",
    "\n",
    "cli = tweepy.Client(bearer_token = token,wait_on_rate_limit=True)\n"
   ]
  },
  {
   "cell_type": "code",
   "execution_count": 3,
   "metadata": {},
   "outputs": [],
   "source": [
    "twitter_fields = 'attachments,context_annotations,conversation_id,created_at,entities,in_reply_to_user_id,lang,public_metrics,referenced_tweets,source'"
   ]
  },
  {
   "cell_type": "code",
   "execution_count": 4,
   "metadata": {},
   "outputs": [],
   "source": [
    "user_fields = 'description,created_at,location,entities,public_metrics,verified'"
   ]
  },
  {
   "cell_type": "code",
   "execution_count": 5,
   "metadata": {},
   "outputs": [],
   "source": [
    "place_fields = 'country,name'"
   ]
  },
  {
   "cell_type": "code",
   "execution_count": 19,
   "metadata": {},
   "outputs": [],
   "source": [
    "data = cli.get_users_tweets(20646711,user_fields=user_fields,place_fields=place_fields,tweet_fields=twitter_fields)"
   ]
  },
  {
   "cell_type": "code",
   "execution_count": 41,
   "metadata": {},
   "outputs": [
    {
     "data": {
      "text/plain": [
       "{'next_token': '7140dibdnow9c7btw423x54ufzfj0n8n39u43qj59neid',\n",
       " 'result_count': 10,\n",
       " 'newest_id': '1586719756945850368',\n",
       " 'oldest_id': '1586384807742808065'}"
      ]
     },
     "execution_count": 41,
     "metadata": {},
     "output_type": "execute_result"
    }
   ],
   "source": [
    "data['meta']"
   ]
  },
  {
   "cell_type": "code",
   "execution_count": 19,
   "metadata": {},
   "outputs": [],
   "source": [
    "from datetime import datetime as dt\n",
    "from datetime import timedelta as td\n",
    "\n",
    "year = dt.now() - td(days=300)"
   ]
  },
  {
   "cell_type": "code",
   "execution_count": 20,
   "metadata": {},
   "outputs": [],
   "source": [
    "dat = cli.get_users_tweets(20646711, max_results = 100, exclude = 'retweets', end_time=year,\n",
    "    user_fields = user_fields, tweet_fields = twitter_fields, place_fields = place_fields)"
   ]
  },
  {
   "cell_type": "code",
   "execution_count": 54,
   "metadata": {},
   "outputs": [
    {
     "data": {
      "text/plain": [
       "{'next_token': '7140dibdnow9c7btw423wwlmrmx7mu5lna1wujg9gexbs',\n",
       " 'result_count': 100,\n",
       " 'newest_id': '1586765015960276993',\n",
       " 'oldest_id': '1582219999594549248'}"
      ]
     },
     "execution_count": 54,
     "metadata": {},
     "output_type": "execute_result"
    }
   ],
   "source": [
    "dat['meta']#.keys()"
   ]
  },
  {
   "cell_type": "code",
   "execution_count": 34,
   "metadata": {},
   "outputs": [],
   "source": [
    "topics = [i['entity']['name'] for i in data['data'][0]['context_annotations']]"
   ]
  },
  {
   "cell_type": "code",
   "execution_count": 8,
   "metadata": {},
   "outputs": [],
   "source": [
    "path = expanduser('~/spark_apps/unesco_tweets/')"
   ]
  },
  {
   "cell_type": "code",
   "execution_count": 9,
   "metadata": {},
   "outputs": [],
   "source": [
    "df_data = []\n",
    "for f in listdir(path):\n",
    "    with open(join(path,f),'r') as fp:\n",
    "        df_data.extend(json.load(fp))"
   ]
  },
  {
   "cell_type": "code",
   "execution_count": 10,
   "metadata": {},
   "outputs": [],
   "source": [
    "df = pd.DataFrame(df_data)"
   ]
  },
  {
   "cell_type": "code",
   "execution_count": 11,
   "metadata": {},
   "outputs": [],
   "source": [
    "df['created_at'] = pd.to_datetime(df['created_at'])"
   ]
  },
  {
   "cell_type": "code",
   "execution_count": 12,
   "metadata": {},
   "outputs": [
    {
     "data": {
      "text/plain": [
       "519    2021-11-03 12:45:08+00:00\n",
       "518    2021-11-03 14:00:36+00:00\n",
       "517    2021-11-03 17:00:44+00:00\n",
       "516    2021-11-03 22:55:02+00:00\n",
       "515    2021-11-04 02:00:13+00:00\n",
       "                  ...           \n",
       "2324   2022-10-30 11:00:27+00:00\n",
       "2323   2022-10-30 14:00:44+00:00\n",
       "2322   2022-10-30 17:00:35+00:00\n",
       "2321   2022-10-30 20:00:32+00:00\n",
       "2320   2022-10-30 23:00:19+00:00\n",
       "Name: created_at, Length: 2520, dtype: datetime64[ns, UTC]"
      ]
     },
     "execution_count": 12,
     "metadata": {},
     "output_type": "execute_result"
    }
   ],
   "source": [
    "df['created_at'].sort_values()"
   ]
  },
  {
   "cell_type": "code",
   "execution_count": null,
   "metadata": {},
   "outputs": [],
   "source": []
  }
 ],
 "metadata": {
  "kernelspec": {
   "display_name": "Python 3.9.2 ('twitter')",
   "language": "python",
   "name": "python3"
  },
  "language_info": {
   "codemirror_mode": {
    "name": "ipython",
    "version": 3
   },
   "file_extension": ".py",
   "mimetype": "text/x-python",
   "name": "python",
   "nbconvert_exporter": "python",
   "pygments_lexer": "ipython3",
   "version": "3.9.2"
  },
  "orig_nbformat": 4,
  "vscode": {
   "interpreter": {
    "hash": "b0e09aa9d6dff02eea853b8354f2efece18c1036e8d0f4cdbe1b45a741f99d72"
   }
  }
 },
 "nbformat": 4,
 "nbformat_minor": 2
}
