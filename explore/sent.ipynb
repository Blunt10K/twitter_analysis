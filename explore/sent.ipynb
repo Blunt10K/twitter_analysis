{
 "cells": [
  {
   "cell_type": "code",
   "execution_count": 113,
   "metadata": {},
   "outputs": [],
   "source": [
    "from textblob import TextBlob, Blobber\n",
    "import tweepy\n",
    "from os import environ,listdir\n",
    "import json\n",
    "import pandas as pd\n",
    "from os.path import expanduser, join\n",
    "from textblob_fr import PatternTagger, PatternAnalyzer\n",
    "from textblob.sentiments import NaiveBayesAnalyzer"
   ]
  },
  {
   "cell_type": "code",
   "execution_count": 2,
   "metadata": {},
   "outputs": [],
   "source": [
    "path = expanduser('~/spark_apps/unesco_mentions/')"
   ]
  },
  {
   "cell_type": "code",
   "execution_count": 3,
   "metadata": {},
   "outputs": [],
   "source": [
    "df_data = []\n",
    "for f in listdir(path):\n",
    "    with open(join(path,f),'r') as fp:\n",
    "        df_data.extend(json.load(fp))"
   ]
  },
  {
   "cell_type": "code",
   "execution_count": 7,
   "metadata": {},
   "outputs": [],
   "source": [
    "mentions = pd.DataFrame(df_data)"
   ]
  },
  {
   "cell_type": "code",
   "execution_count": 27,
   "metadata": {},
   "outputs": [],
   "source": [
    "path = expanduser('~/spark_apps/convo_roots/')\n",
    "df_data = []\n",
    "for f in listdir(path):\n",
    "    with open(join(path,f),'r') as fp:\n",
    "        df_data.extend(json.load(fp))"
   ]
  },
  {
   "cell_type": "code",
   "execution_count": 28,
   "metadata": {},
   "outputs": [],
   "source": [
    "convos = pd.DataFrame(df_data)"
   ]
  },
  {
   "cell_type": "code",
   "execution_count": 15,
   "metadata": {},
   "outputs": [],
   "source": [
    "convo_ids  = list(mentions['conversation_id'])"
   ]
  },
  {
   "cell_type": "code",
   "execution_count": 18,
   "metadata": {},
   "outputs": [],
   "source": [
    "links = r'https?://[\\w\\.\\d/]+'\n",
    "hashtags = r'#[\\w\\d]+'\n",
    "usernames = r'@[\\w\\d_]+'"
   ]
  },
  {
   "cell_type": "code",
   "execution_count": 29,
   "metadata": {},
   "outputs": [],
   "source": [
    "convos = convos[(convos['lang']=='en') | (convos['lang']=='fr')]"
   ]
  },
  {
   "cell_type": "code",
   "execution_count": 23,
   "metadata": {},
   "outputs": [],
   "source": [
    "mentions = mentions[(mentions['lang']=='en') | (mentions['lang']=='fr')]"
   ]
  },
  {
   "cell_type": "code",
   "execution_count": 87,
   "metadata": {},
   "outputs": [],
   "source": [
    "mentions['text'] = (mentions['text'].str.replace(links,'', regex = True)\n",
    "            .str.replace(hashtags,'', regex = True)\n",
    "            .str.replace(usernames, '',regex = True)\n",
    "            .str.replace(r'\\s+',' ', regex = True)\n",
    "            .str.replace(r'[^\\w\\s]','',regex=True)\n",
    "            .str.lower())"
   ]
  },
  {
   "cell_type": "code",
   "execution_count": 88,
   "metadata": {},
   "outputs": [],
   "source": [
    "convos['text'] = (convos['text'].str.replace(links,'', regex = True)\n",
    "            .str.replace(hashtags,'', regex = True)\n",
    "            .str.replace(usernames, '',regex = True)\n",
    "            .str.replace(r'\\s+',' ', regex = True)\n",
    "            .str.replace(r'[^\\w\\s]','',regex=True)\n",
    "            .str.lower())"
   ]
  },
  {
   "cell_type": "code",
   "execution_count": 33,
   "metadata": {},
   "outputs": [],
   "source": [
    "from wordcloud import WordCloud\n",
    "import plotly.express as px\n",
    "import matplotlib.pyplot as plt"
   ]
  },
  {
   "cell_type": "code",
   "execution_count": 34,
   "metadata": {},
   "outputs": [],
   "source": [
    "# wc_data = df.groupby('hashtags').sum(numeric_only=True)\n",
    "# wc = wc_data.to_dict()['like_count']\n",
    "\n",
    "# cloud = WordCloud(min_word_length=3, colormap = 'winter',max_words=20,width = 400, height = 200,prefer_horizontal = 0.95,\n",
    "#         background_color = 'white',collocations = False).generate_from_frequencies(wc)\n",
    "\n",
    "# fig, ax = plt.subplots()\n",
    "# ax.axis('off')\n",
    "# ax.imshow(cloud)\n",
    "\n",
    "# return fig"
   ]
  },
  {
   "cell_type": "code",
   "execution_count": 89,
   "metadata": {},
   "outputs": [],
   "source": [
    "mentions_en = mentions[mentions['lang']=='en']\n",
    "mentions_fr = mentions[mentions['lang']=='fr']"
   ]
  },
  {
   "cell_type": "code",
   "execution_count": 90,
   "metadata": {},
   "outputs": [
    {
     "data": {
      "text/plain": [
       "0     it is literally a division what are you talki...\n",
       "2     of all journalists killed in 2021 89 were men...\n",
       "3     i see how stupid this tweet is but at the sam...\n",
       "4     wtf does this even mean my god universities a...\n",
       "6     and what about the 89 left hope you make twit...\n",
       "Name: text, dtype: object"
      ]
     },
     "execution_count": 90,
     "metadata": {},
     "output_type": "execute_result"
    }
   ],
   "source": [
    "mentions_en['text'].head()"
   ]
  },
  {
   "cell_type": "code",
   "execution_count": 91,
   "metadata": {},
   "outputs": [],
   "source": [
    "sentiment_en = pd.DataFrame([TextBlob(i).sentiment for i in list(mentions_en['text'])])"
   ]
  },
  {
   "cell_type": "code",
   "execution_count": 92,
   "metadata": {},
   "outputs": [],
   "source": [
    "mentions_en = pd.concat((mentions_en.reset_index(),sentiment_en),axis = 1)"
   ]
  },
  {
   "cell_type": "code",
   "execution_count": 93,
   "metadata": {},
   "outputs": [],
   "source": [
    "fr_blobber = Blobber(pos_tagger=PatternTagger(), analyzer=PatternAnalyzer())"
   ]
  },
  {
   "cell_type": "code",
   "execution_count": 94,
   "metadata": {},
   "outputs": [],
   "source": [
    "sentiment_fr = pd.DataFrame([fr_blobber(i).sentiment for i in list(mentions_fr['text'])],columns = ['polarity','subjectivity'])"
   ]
  },
  {
   "cell_type": "code",
   "execution_count": 95,
   "metadata": {},
   "outputs": [],
   "source": [
    "mentions_fr = pd.concat((mentions_fr.reset_index(),sentiment_fr),axis = 1)"
   ]
  },
  {
   "cell_type": "code",
   "execution_count": 96,
   "metadata": {},
   "outputs": [],
   "source": [
    "ments = pd.concat((mentions_fr, mentions_en))\n"
   ]
  },
  {
   "cell_type": "code",
   "execution_count": 99,
   "metadata": {},
   "outputs": [],
   "source": [
    "ments['sentiment'] = ''\n",
    "ments['sentiment'].mask((ments['polarity'] <= 0.0001) & (ments['polarity'] >= -0.0001),'neutral',inplace=True)\n",
    "ments['sentiment'].mask((ments['polarity'] < -0.5),'very negative',inplace=True)\n",
    "ments['sentiment'].mask((ments['polarity'] < -0.0001) & (ments['polarity'] > -0.5),'negative',inplace=True)\n",
    "ments['sentiment'].mask((ments['polarity'] > 0.5),'very positive',inplace=True)\n",
    "ments['sentiment'].mask((ments['polarity'] > 0.0001) & (ments['polarity'] < 0.5),'positive',inplace=True)"
   ]
  },
  {
   "cell_type": "code",
   "execution_count": 117,
   "metadata": {},
   "outputs": [
    {
     "data": {
      "text/plain": [
       "['join us tomorrow 9 nov at to discover the key contribution of to amp  9 am eet at ',\n",
       " ' we are concerned about the welfare of kabaka king ronald muwenda mutebi ii who stands for health amp wellbeing of all ugandans from  ',\n",
       " ' as if rest 89 male journalists were saying ',\n",
       " 'today we are celebrating the launch of the   a joint initiative of       promoting a series of events operating around  1st online event starts today at 12 dont miss it',\n",
       " 'prs s prireditelji podnebnega teka for the future of our kids the question of is basically a question of life and death and it is our responsibility to answer this challenges ',\n",
       " 'today is intday to for crimes against journalists according to  9 out of 10 journalist killings go unpunished austria is partnering with amp to organise on 3  4 nov 2022 and promote accountability',\n",
       " ' shor temple',\n",
       " ' women are not being targeted tho they are dying cause they are in the middle of a warzone nobodys looking at journalists and only shooting female ones especially when 89 of cases are male deaths',\n",
       " ' what about 89 of the journalists',\n",
       " ' from  ',\n",
       " ' lets go for 100 male',\n",
       " ' they have to and they will pay for its reconstruction',\n",
       " ' to the middle east likely some may have adopted islam',\n",
       " ' from  ',\n",
       " ' shore temple join ',\n",
       " ' shore temple join ',\n",
       " ' does this globally ask ',\n",
       " ' if something is 89 of something id say that is what is targeted but hey what do i know',\n",
       " ' from  ',\n",
       " ' shore temple ',\n",
       " 'just one day to the 1st event of ihp on climate resilience and low carbon approaches systems and technologies dont miss it join us at the water pavilion on 9th november 09000910 egy register amp follow online ',\n",
       " 'iran rev alertbabol n univ stud protestsing fire  my heart insteadthe song becomes eternal  ',\n",
       " ' it was an honor to present webarchive international conference cyprus carnival is here ',\n",
       " 'iran hum rights alert malika goodarzi26 dentist was arrested in tehran  home101722ampis in evin prisonbe her voice ni ',\n",
       " ' we are concerned about the welfare of kabaka king ronald muwenda mutebi ii who stands for health amp wellbeing of all ugandans from  ',\n",
       " ' they should be pushing for a 5050 share',\n",
       " ' cant it just be journalist',\n",
       " ' shore temple ',\n",
       " ' stop the ',\n",
       " ' theres no progress over our cases except of number and the majority is running out of  no extension no to education  no protection ',\n",
       " ' thank you for highlighting support for a moratorium on the development export sale transfer servicing and use of technologies which we at specify in the recommendations in our recent report on this problem ',\n",
       " 'uganda has 3 heroes police soldiers ampteachers  ',\n",
       " ' what we know is everything it is our limit of what we can be  julian assange',\n",
       " 'happening now  nadine hoffman moderating addressing genderbased violence against journalists ',\n",
       " ' recognize and stop hazara genocide in afghanistan please be our voice ',\n",
       " ' stop this genocide',\n",
       " ' target men for everything',\n",
       " ' apesport 2022s hottest presale  our last token gt1b mc  monster partners  presale coming soon  join us  r',\n",
       " ' hear our voice ',\n",
       " ' 100 of course',\n",
       " ' any country where journalists are targeted the rulers are despotic dictators',\n",
       " 'children are out of school for 3 years and livig in fear because of the genocidal war on tigray by  amp  ',\n",
       " ' thats why he and rutte government in the netherlands want to silence  these journalists they labeled as and for not being in favour of dutch mainstream ',\n",
       " ' 89 are cebras ',\n",
       " ' raise ur voice for for all jrnalsit not only for those who protect n spread western agenda if u react on jamal khshogi mrder so also do it for arshad sahrifs mrder by local handlers of us backed regime change',\n",
       " ' so the majority were men but nobody cares about that part',\n",
       " 'this has an adverse impact on academic achievement and future prospects the atmosphere of anxiety fear and insecurity is incompatible with learning and undermines the quality of learning for everyone  ',\n",
       " ' why dont they want us to know this ',\n",
       " ' thank you austria for hosting timely amp emblematic commemoration ',\n",
       " ' on your measure this demonstrates it is male journalists being targeted doesnt it ']"
      ]
     },
     "execution_count": 117,
     "metadata": {},
     "output_type": "execute_result"
    }
   ],
   "source": [
    "list(ments[ments['sentiment']=='neutral']['text'])[-50:]"
   ]
  },
  {
   "cell_type": "code",
   "execution_count": 118,
   "metadata": {},
   "outputs": [
    {
     "data": {
      "text/plain": [
       "Sentiment(classification='neg', p_pos=0.23313201149471613, p_neg=0.766867988505284)"
      ]
     },
     "execution_count": 118,
     "metadata": {},
     "output_type": "execute_result"
    }
   ],
   "source": [
    "TextBlob('recognize and stop hazara genocide in afghanistan please be our voice', analyzer = NaiveBayesAnalyzer()).sentiment"
   ]
  },
  {
   "cell_type": "code",
   "execution_count": null,
   "metadata": {},
   "outputs": [],
   "source": []
  }
 ],
 "metadata": {
  "kernelspec": {
   "display_name": "Python 3.9.2 ('twitter')",
   "language": "python",
   "name": "python3"
  },
  "language_info": {
   "codemirror_mode": {
    "name": "ipython",
    "version": 3
   },
   "file_extension": ".py",
   "mimetype": "text/x-python",
   "name": "python",
   "nbconvert_exporter": "python",
   "pygments_lexer": "ipython3",
   "version": "3.9.2"
  },
  "orig_nbformat": 4,
  "vscode": {
   "interpreter": {
    "hash": "b0e09aa9d6dff02eea853b8354f2efece18c1036e8d0f4cdbe1b45a741f99d72"
   }
  }
 },
 "nbformat": 4,
 "nbformat_minor": 2
}
