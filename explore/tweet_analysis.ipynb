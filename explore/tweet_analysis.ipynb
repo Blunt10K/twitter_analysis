{
 "cells": [
  {
   "cell_type": "code",
   "execution_count": 7,
   "metadata": {},
   "outputs": [],
   "source": [
    "from os.path import expanduser, join as osjoin\n",
    "from os import listdir\n",
    "import json\n",
    "import pandas as pd\n",
    "\n",
    "def extract_engagement_data():\n",
    "    path = expanduser('~/spark_apps/unesco_tweets/')\n",
    "\n",
    "    df_data = []\n",
    "    for f in listdir(path):\n",
    "        with open(osjoin(path,f),'r') as fp:\n",
    "            data = json.load(fp)\n",
    "            df_data.extend(data)\n",
    "\n",
    "\n",
    "    dates = []\n",
    "    hashtags = []\n",
    "\n",
    "    for d in df_data:\n",
    "        if 'entities' in d and 'hashtags' in d['entities']:\n",
    "            to_add = [i['tag'] for i in d['entities']['hashtags']]\n",
    "            hashtags.extend(to_add)\n",
    "            dates.extend([d['created_at']]*len(to_add))\n",
    "        else:\n",
    "            hashtags.append('')\n",
    "            dates.append(d['created_at'])\n",
    "\n",
    "    return df_data, dates, hashtags\n",
    "\n",
    "def preprocess_engagement_data(df_data, dates, hashtags):\n",
    "    df = pd.DataFrame(df_data)\n",
    "    df['created_at'] = pd.to_datetime(df['created_at'])\n",
    "    df = pd.concat((df,pd.json_normalize(df['public_metrics'])),axis = 1)\n",
    "\n",
    "    df = df[['created_at','retweet_count', 'reply_count', 'like_count', 'quote_count']]\n",
    "\n",
    "    hash = pd.DataFrame(data = {'created_at': dates,'hashtags':hashtags})\n",
    "    hash['created_at'] = pd.to_datetime(hash['created_at'])\n",
    "    analysis = hash.join(df.set_index('created_at'), on = 'created_at')\n",
    "    analysis['hashtags'] = analysis['hashtags'].str.lower().str.strip()\n",
    "\n",
    "    analysis['bucket'] = analysis['created_at'].dt.strftime('%B, %Y')\n",
    "    analysis['bucket_idx'] = pd.to_datetime(analysis['bucket'],format = '%B, %Y')\n",
    "\n",
    "    baseline = analysis.mean(numeric_only=True)\n",
    "\n",
    "    return analysis, baseline"
   ]
  },
  {
   "cell_type": "code",
   "execution_count": 8,
   "metadata": {},
   "outputs": [],
   "source": [
    "analysis, _ = preprocess_engagement_data(*extract_engagement_data())"
   ]
  },
  {
   "cell_type": "code",
   "execution_count": 9,
   "metadata": {},
   "outputs": [],
   "source": [
    "analysis.to_csv('../../unesco_tweets.csv',index = False)"
   ]
  },
  {
   "cell_type": "code",
   "execution_count": 1,
   "metadata": {},
   "outputs": [],
   "source": [
    "import tweepy\n",
    "from os import environ,listdir\n",
    "import json, pandas as pd\n",
    "from os.path import expanduser, join"
   ]
  },
  {
   "cell_type": "code",
   "execution_count": 2,
   "metadata": {},
   "outputs": [],
   "source": [
    "path = expanduser('~/spark_apps/unesco_tweets/')"
   ]
  },
  {
   "cell_type": "code",
   "execution_count": 3,
   "metadata": {},
   "outputs": [],
   "source": [
    "df_data = []\n",
    "for f in listdir(path):\n",
    "    with open(join(path,f),'r') as fp:\n",
    "        data = json.load(fp)\n",
    "        df_data.extend(data)"
   ]
  },
  {
   "cell_type": "markdown",
   "metadata": {},
   "source": [
    "# Engagement"
   ]
  },
  {
   "cell_type": "code",
   "execution_count": 5,
   "metadata": {},
   "outputs": [],
   "source": [
    "df = pd.DataFrame(df_data)"
   ]
  },
  {
   "cell_type": "code",
   "execution_count": 6,
   "metadata": {},
   "outputs": [],
   "source": [
    "df = pd.concat((df,pd.json_normalize(df['public_metrics'])),axis = 1)"
   ]
  },
  {
   "cell_type": "code",
   "execution_count": 24,
   "metadata": {},
   "outputs": [],
   "source": [
    "df['created_at'] = pd.to_datetime(df['created_at'])"
   ]
  },
  {
   "cell_type": "code",
   "execution_count": 9,
   "metadata": {},
   "outputs": [],
   "source": [
    "engagement = df[['created_at','retweet_count', 'reply_count', 'like_count', 'quote_count','id']]"
   ]
  },
  {
   "cell_type": "code",
   "execution_count": null,
   "metadata": {},
   "outputs": [],
   "source": []
  },
  {
   "cell_type": "code",
   "execution_count": 19,
   "metadata": {},
   "outputs": [],
   "source": [
    "dates = []\n",
    "hashtags = []\n",
    "\n",
    "for d in df_data:\n",
    "    if 'entities' in d and 'hashtags' in d['entities']:\n",
    "        to_add = [i['tag'] for i in d['entities']['hashtags']]\n",
    "        hashtags.extend(to_add)\n",
    "        dates.extend([d['created_at']]*len(to_add))\n",
    "    else:\n",
    "        hashtags.append('')\n",
    "        dates.append(d['created_at'])\n",
    "\n",
    "    "
   ]
  },
  {
   "cell_type": "code",
   "execution_count": 20,
   "metadata": {},
   "outputs": [],
   "source": [
    "hash = pd.DataFrame(data = {'created_at': dates,'hashtags':hashtags})"
   ]
  },
  {
   "cell_type": "code",
   "execution_count": null,
   "metadata": {},
   "outputs": [],
   "source": []
  },
  {
   "cell_type": "code",
   "execution_count": 25,
   "metadata": {},
   "outputs": [],
   "source": [
    "hash['created_at'] = pd.to_datetime(hash['created_at'])"
   ]
  },
  {
   "cell_type": "code",
   "execution_count": 26,
   "metadata": {},
   "outputs": [],
   "source": [
    "analysis = hash.join(engagement.set_index('created_at'), on = 'created_at')"
   ]
  },
  {
   "cell_type": "code",
   "execution_count": 29,
   "metadata": {},
   "outputs": [],
   "source": [
    "analysis['hashtags'] = analysis['hashtags'].str.lower().str.strip()"
   ]
  },
  {
   "cell_type": "code",
   "execution_count": 28,
   "metadata": {},
   "outputs": [],
   "source": [
    "from datetime import datetime as dt, date as d"
   ]
  },
  {
   "cell_type": "code",
   "execution_count": 39,
   "metadata": {},
   "outputs": [],
   "source": [
    "day = d.today()\n",
    "today = dt.fromordinal(day.toordinal())"
   ]
  },
  {
   "cell_type": "code",
   "execution_count": 34,
   "metadata": {},
   "outputs": [],
   "source": [
    "from datetime import timedelta as td"
   ]
  },
  {
   "cell_type": "code",
   "execution_count": 41,
   "metadata": {},
   "outputs": [],
   "source": [
    "before = today - td(days = 5)"
   ]
  },
  {
   "cell_type": "code",
   "execution_count": null,
   "metadata": {},
   "outputs": [],
   "source": [
    "analysis['created_at'].dt.ceil"
   ]
  },
  {
   "cell_type": "code",
   "execution_count": 56,
   "metadata": {},
   "outputs": [],
   "source": [
    "before = before.astimezone()\n",
    "today = today.astimezone()"
   ]
  },
  {
   "cell_type": "code",
   "execution_count": 35,
   "metadata": {},
   "outputs": [],
   "source": [
    "analysis['bucket'] = analysis['created_at'].dt.strftime('%B, %Y')"
   ]
  },
  {
   "cell_type": "code",
   "execution_count": 38,
   "metadata": {},
   "outputs": [],
   "source": [
    "analysis['bucket_idx'] = pd.to_datetime(analysis['bucket'],format = '%B, %Y')"
   ]
  },
  {
   "cell_type": "code",
   "execution_count": 42,
   "metadata": {},
   "outputs": [],
   "source": [
    "rf = analysis.groupby(['bucket','bucket_idx','hashtags'],as_index=False).sum(numeric_only=True).sort_values('bucket_idx')"
   ]
  },
  {
   "cell_type": "code",
   "execution_count": 43,
   "metadata": {},
   "outputs": [],
   "source": [
    "import plotly.express as px"
   ]
  },
  {
   "cell_type": "code",
   "execution_count": 109,
   "metadata": {},
   "outputs": [],
   "source": [
    "analysis['bucket_idx'] = analysis['created_at'].dt.year+analysis['created_at'].dt.month"
   ]
  },
  {
   "cell_type": "code",
   "execution_count": null,
   "metadata": {},
   "outputs": [],
   "source": []
  }
 ],
 "metadata": {
  "kernelspec": {
   "display_name": "Python 3.9.2 ('twitter')",
   "language": "python",
   "name": "python3"
  },
  "language_info": {
   "codemirror_mode": {
    "name": "ipython",
    "version": 3
   },
   "file_extension": ".py",
   "mimetype": "text/x-python",
   "name": "python",
   "nbconvert_exporter": "python",
   "pygments_lexer": "ipython3",
   "version": "3.9.2"
  },
  "orig_nbformat": 4,
  "vscode": {
   "interpreter": {
    "hash": "b0e09aa9d6dff02eea853b8354f2efece18c1036e8d0f4cdbe1b45a741f99d72"
   }
  }
 },
 "nbformat": 4,
 "nbformat_minor": 2
}
